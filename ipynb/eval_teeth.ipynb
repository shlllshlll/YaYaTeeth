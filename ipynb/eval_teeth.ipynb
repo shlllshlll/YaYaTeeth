{
 "cells": [
  {
   "cell_type": "markdown",
   "metadata": {},
   "source": [
    "## 牙齿分割模型训练与测试\n",
    "\n",
    "### 模型训练\n",
    "\n",
    "#### 数据预处理\n",
    "\n",
    "使用swfaug.ipynb中的相关程序\n",
    "\n",
    "#### 生成训练数据\n",
    "\n",
    "```bash\n",
    "./run.sh build_data\n",
    "```\n",
    "\n",
    "#### 训练模型\n",
    "\n",
    "```bash\n",
    "./run.sh train\n",
    "```\n",
    "\n",
    "#### 生成模型文件\n",
    "\n",
    "```bash\n",
    "./run.sh export\n",
    "```\n",
    "\n",
    "#### 生成测试结果\n",
    "\n",
    "```bash\n",
    "./run.sh eval -o teeth_swf/result\n",
    "```\n",
    "\n",
    "### 生成可视化的结果图"
   ]
  },
  {
   "cell_type": "code",
   "execution_count": 2,
   "metadata": {},
   "outputs": [],
   "source": [
    "# Package import\n",
    "import os\n",
    "from pathlib import Path\n",
    "from shutil import rmtree\n",
    "from collections import Counter\n",
    "\n",
    "from matplotlib import pyplot as plt\n",
    "import matplotlib as mpl\n",
    "from tqdm.auto import tqdm\n",
    "import numpy as np\n",
    "from PIL import Image, ImageDraw, ImageFont"
   ]
  },
  {
   "cell_type": "code",
   "execution_count": 16,
   "metadata": {},
   "outputs": [],
   "source": [
    "# File paths define\n",
    "pwd = Path(os.path.dirname(os.getcwd()))\n",
    "base_path = pwd / 'Raw-GroundTruth-Testing'\n",
    "ground_truth = base_path / 'groundtruth'\n",
    "source_img = base_path / 'image'\n",
    "\n",
    "teeth_path = base_path / 'teeth'\n",
    "numpy_result = teeth_path / 'result'\n",
    "plt_result = teeth_path / 'plt_result'\n",
    "vis_result = teeth_path / 'result_vis'\n",
    "vis_result_tumb = teeth_path / 'result_vis_tumb'\n",
    "matlab_result = teeth_path / 'result_matlab'"
   ]
  },
  {
   "cell_type": "code",
   "execution_count": 17,
   "metadata": {},
   "outputs": [
    {
     "data": {
      "application/vnd.jupyter.widget-view+json": {
       "model_id": "8febf0a5608b4a36a6436f0ddc9bdab4",
       "version_major": 2,
       "version_minor": 0
      },
      "text/plain": [
       "HBox(children=(FloatProgress(value=0.0, max=139.0), HTML(value='')))"
      ]
     },
     "metadata": {},
     "output_type": "display_data"
    },
    {
     "name": "stdout",
     "output_type": "stream",
     "text": [
      "\n"
     ]
    }
   ],
   "source": [
    "vis_result.mkdir(exist_ok=True)\n",
    "matlab_result.mkdir(exist_ok=True)\n",
    "vis_result_tumb.mkdir(exist_ok=True)\n",
    "\n",
    "for result_np_path in tqdm(list(numpy_result.glob('*.npy'))):\n",
    "    # Get file paths.\n",
    "    source_img_path =  next(source_img.glob(result_np_path.stem + '.*'))\n",
    "    gt_img_path = ground_truth / (result_np_path.stem + '.png')\n",
    "    res_vis_path = vis_result / (result_np_path.stem + '.jpg')\n",
    "    res_vis_tumb_path = vis_result_tumb / (result_np_path.stem + '.jpg')\n",
    "    res_matlab_path = matlab_result / (result_np_path.stem + '.png')\n",
    "    \n",
    "    # Open images and numpy arrays.\n",
    "    src_img = Image.open(str(source_img_path))\n",
    "    gt_img = Image.open(str(gt_img_path))\n",
    "    res_np = np.load(str(result_np_path))\n",
    "    \n",
    "    # Draw result images.\n",
    "    dst_img = src_img.copy()\n",
    "    draw_img = ImageDraw.Draw(dst_img, mode='RGBA')\n",
    "    x, y = np.where(res_np == 2)\n",
    "    dental_point = np.vstack((y, x)).T.flatten()\n",
    "    draw_img.point(list(dental_point), fill=(255, 255, 0, 64))\n",
    "    # Save result images.\n",
    "    dst_img.save(res_vis_path)\n",
    "    dst_img.resize((100, 100)).save(res_vis_tumb_path)\n",
    "    \n",
    "    # Save result image for matlab\n",
    "    res_matlab_np = res_np.astype('uint8')\n",
    "    res_matlab_np[res_matlab_np == 1] = 125\n",
    "    res_matlab_np[res_matlab_np == 2] = 255\n",
    "    res_matlab_img = Image.fromarray(res_matlab_np)\n",
    "    res_matlab_img.save(str(res_matlab_path))"
   ]
  },
  {
   "cell_type": "markdown",
   "metadata": {},
   "source": [
    "### 定义IOU计算函数"
   ]
  },
  {
   "cell_type": "code",
   "execution_count": 36,
   "metadata": {},
   "outputs": [],
   "source": [
    "import os\n",
    "import csv\n",
    "from pathlib import Path\n",
    "from collections import Counter\n",
    "\n",
    "import numpy as np\n",
    "from tqdm.auto import tqdm\n",
    "from PIL import Image\n",
    "from docx import Document"
   ]
  },
  {
   "cell_type": "code",
   "execution_count": 37,
   "metadata": {},
   "outputs": [],
   "source": [
    "def compute_iou(pred_path, gt_path):\n",
    "    gt_img = Image.open(gt_path).resize((513, 513))\n",
    "    gt_np = np.asarray(gt_img, dtype='uint8').copy()\n",
    "    gt_np[gt_np == 125] = 1\n",
    "    gt_np[gt_np == 255] = 2\n",
    "    \n",
    "    res_np = np.load(str(pred_path)).astype('uint8')\n",
    "    res_np = res_np * (gt_np > 0)\n",
    "    intersection = res_np * (res_np==gt_np)\n",
    "\n",
    "    area_pred = Counter(res_np.flatten())\n",
    "    area_lab = Counter(gt_np.flatten())\n",
    "    area_intersection = Counter(intersection.flatten())\n",
    "    area_union = area_pred + area_lab - area_intersection\n",
    "    sum_iou = lambda x: x[1]+x[2]\n",
    "    iou = sum_iou(area_intersection) / sum_iou(area_union)\n",
    "    \n",
    "    return iou"
   ]
  },
  {
   "cell_type": "markdown",
   "metadata": {},
   "source": [
    "#### 写入结果到文档"
   ]
  },
  {
   "cell_type": "code",
   "execution_count": 43,
   "metadata": {},
   "outputs": [],
   "source": [
    "# File paths define\n",
    "pwd = Path(os.path.dirname(os.getcwd()))\n",
    "base_path = pwd / 'Raw-GroundTruth-Testing'\n",
    "ground_truth = base_path / 'groundtruth'\n",
    "ground_truth_tumb = base_path / 'groundtruth_tumb'\n",
    "source_img = base_path / 'image_tumb'\n",
    "\n",
    "teeth_path = base_path / 'teeth_pzn'\n",
    "teeth_vis_result = teeth_path / 'result_vis_tumb'\n",
    "\n",
    "swfaug_path = base_path / 'teeth_swf'\n",
    "swfaug_vis_result = swfaug_path / 'result_vis_tumb'\n",
    "swfaug_numpy_result = swfaug_path / 'result'"
   ]
  },
  {
   "cell_type": "code",
   "execution_count": 44,
   "metadata": {},
   "outputs": [
    {
     "data": {
      "application/vnd.jupyter.widget-view+json": {
       "model_id": "6d15ea7987464881aee4472e422a498e",
       "version_major": 2,
       "version_minor": 0
      },
      "text/plain": [
       "HBox(children=(FloatProgress(value=0.0, max=139.0), HTML(value='')))"
      ]
     },
     "metadata": {},
     "output_type": "display_data"
    },
    {
     "name": "stdout",
     "output_type": "stream",
     "text": [
      "\n"
     ]
    },
    {
     "data": {
      "text/plain": [
       "0.8356691834862533"
      ]
     },
     "execution_count": 44,
     "metadata": {},
     "output_type": "execute_result"
    }
   ],
   "source": [
    "def add_row(row, pic1, pic2, pic3, pic4, iou):\n",
    "    row.cells[0].paragraphs[0].add_run().add_picture(str(pic1))\n",
    "    row.cells[1].paragraphs[0].add_run().add_picture(str(pic2))\n",
    "    row.cells[2].paragraphs[0].add_run().add_picture(str(pic3))\n",
    "    row.cells[3].paragraphs[0].add_run().add_picture(str(pic4))\n",
    "    row.cells[4].text = iou\n",
    "\n",
    "document = Document()\n",
    "document.add_heading('牙菌斑测试结果', 0)\n",
    "table = document.add_table(rows=140, cols=5)\n",
    "\n",
    "iou_sum = 0\n",
    "count = 0\n",
    "\n",
    "for i, source_img_path in enumerate(tqdm(sorted(list(source_img.glob('*'))))):\n",
    "    key = source_img_path.stem\n",
    "    gt_img_path = ground_truth / (key + '.png')\n",
    "    gt_img_path_tumb = ground_truth_tumb / (key + '.png')\n",
    "    teeth_res_vis_path = teeth_vis_result / (key + '.jpg')\n",
    "    teeth_res_vis_path = teeth_vis_result / (key + '.jpg')\n",
    "    swfaug_res_vis_path = swfaug_vis_result / (key + '.jpg')\n",
    "    swfaug_numpy_result_path = swfaug_numpy_result / (key + '.npy')\n",
    "    iou = compute_iou(swfaug_numpy_result_path, gt_img_path)\n",
    "    \n",
    "    count += 1\n",
    "    iou_sum += iou\n",
    "    iou = f'{iou:.5f}'\n",
    "    \n",
    "    row = table.rows[i+1]\n",
    "    add_row(row, source_img_path, gt_img_path_tumb, teeth_res_vis_path, swfaug_res_vis_path, iou)\n",
    "    \n",
    "document.save(swfaug_path.stem + \".docx\")\n",
    "iou_sum / count"
   ]
  },
  {
   "cell_type": "code",
   "execution_count": 45,
   "metadata": {},
   "outputs": [],
   "source": [
    "# Teeth: 0.8491325351978396\n",
    "# SWFAug: 0.8356691834862533"
   ]
  },
  {
   "cell_type": "code",
   "execution_count": null,
   "metadata": {},
   "outputs": [],
   "source": []
  }
 ],
 "metadata": {
  "kernelspec": {
   "display_name": "Python 3",
   "language": "python",
   "name": "python3"
  },
  "language_info": {
   "codemirror_mode": {
    "name": "ipython",
    "version": 3
   },
   "file_extension": ".py",
   "mimetype": "text/x-python",
   "name": "python",
   "nbconvert_exporter": "python",
   "pygments_lexer": "ipython3",
   "version": "3.7.8"
  }
 },
 "nbformat": 4,
 "nbformat_minor": 4
}
