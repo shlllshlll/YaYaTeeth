{
 "cells": [
  {
   "cell_type": "code",
   "execution_count": 8,
   "metadata": {},
   "outputs": [],
   "source": [
    "from pathlib import Path"
   ]
  },
  {
   "cell_type": "code",
   "execution_count": 38,
   "metadata": {},
   "outputs": [],
   "source": [
    "def read_summary_file(path):\n",
    "    summary_list = []\n",
    "    with open(path, 'r') as f:\n",
    "        for line in f:\n",
    "            if (line[-1] == '\\n'):\n",
    "                line = line[:-1]\n",
    "            summary_list.append(line)\n",
    "        \n",
    "    return summary_list\n",
    "\n",
    "def write_summary_file(path, lines):\n",
    "    with open(path, 'w') as f:\n",
    "        for line in lines[:-1]:\n",
    "            f.write(line+'\\n')\n",
    "        f.write(lines[-1])"
   ]
  },
  {
   "cell_type": "code",
   "execution_count": 10,
   "metadata": {},
   "outputs": [],
   "source": [
    "dataset_base_path = Path('/home/shlll/Dataset/Teeth/')\n",
    "\n",
    "teeth_dataset_base_path = dataset_base_path / 'teeth'\n",
    "teeth_summary_path = teeth_dataset_base_path / \"ImageSets/Segmentation\"\n",
    "teeth_train_summary_path = teeth_summary_path / 'train.txt'\n",
    "teeth_trainval_summary_path = teeth_summary_path / 'trainval.txt'\n",
    "teeth_val_summary_path = teeth_summary_path / 'val.txt'\n",
    "teeth_src_image_path = teeth_dataset_base_path / 'JPEGImages'\n",
    "teeth_gt_image_path = teeth_dataset_base_path / 'SegmentationClass'\n",
    "\n",
    "swfaug_dataset_base_path = dataset_base_path / 'swfaug'\n",
    "swfaug_dataset_subpaths = [\n",
    "    swfaug_dataset_base_path / 'A', \n",
    "    swfaug_dataset_base_path / 'B', \n",
    "    swfaug_dataset_base_path / 'C'\n",
    "]"
   ]
  },
  {
   "cell_type": "code",
   "execution_count": 15,
   "metadata": {},
   "outputs": [],
   "source": [
    "teeth_train_list = read_summary_file(teeth_train_summary_path)\n",
    "teeth_trainval_list = read_summary_file(teeth_trainval_summary_path)\n",
    "teeth_val_list = read_summary_file(teeth_val_summary_path)\n",
    "teeth_src_image_list = set(map(lambda x: x.stem, teeth_src_image_path.glob('*')))\n",
    "teeth_gt_image_list = set(map(lambda x: x.stem, teeth_gt_image_path.glob('*')))"
   ]
  },
  {
   "cell_type": "code",
   "execution_count": 31,
   "metadata": {},
   "outputs": [
    {
     "data": {
      "text/plain": [
       "1967"
      ]
     },
     "execution_count": 31,
     "metadata": {},
     "output_type": "execute_result"
    }
   ],
   "source": [
    "len(teeth_src_image_list)"
   ]
  },
  {
   "cell_type": "code",
   "execution_count": 33,
   "metadata": {},
   "outputs": [
    {
     "data": {
      "text/plain": [
       "1967"
      ]
     },
     "execution_count": 33,
     "metadata": {},
     "output_type": "execute_result"
    }
   ],
   "source": [
    "len(teeth_gt_image_list)"
   ]
  },
  {
   "cell_type": "code",
   "execution_count": 34,
   "metadata": {},
   "outputs": [
    {
     "data": {
      "text/plain": [
       "1578"
      ]
     },
     "execution_count": 34,
     "metadata": {},
     "output_type": "execute_result"
    }
   ],
   "source": [
    "len(teeth_train_list)"
   ]
  },
  {
   "cell_type": "code",
   "execution_count": 27,
   "metadata": {},
   "outputs": [
    {
     "data": {
      "text/plain": [
       "0.25918884664131814"
      ]
     },
     "execution_count": 27,
     "metadata": {},
     "output_type": "execute_result"
    }
   ],
   "source": [
    "len(teeth_val_list) / len(teeth_train_list)"
   ]
  },
  {
   "cell_type": "code",
   "execution_count": 35,
   "metadata": {},
   "outputs": [
    {
     "data": {
      "text/plain": [
       "1987"
      ]
     },
     "execution_count": 35,
     "metadata": {},
     "output_type": "execute_result"
    }
   ],
   "source": [
    "len(teeth_train_list) + len(teeth_val_list)"
   ]
  },
  {
   "cell_type": "code",
   "execution_count": 18,
   "metadata": {},
   "outputs": [
    {
     "data": {
      "text/plain": [
       "1963"
      ]
     },
     "execution_count": 18,
     "metadata": {},
     "output_type": "execute_result"
    }
   ],
   "source": [
    "len(teeth_trainval_list)"
   ]
  },
  {
   "cell_type": "markdown",
   "metadata": {},
   "source": [
    "### 处理swfaug数据集"
   ]
  },
  {
   "cell_type": "code",
   "execution_count": 62,
   "metadata": {},
   "outputs": [],
   "source": [
    "import os\n",
    "import shutil\n",
    "import random\n",
    "from itertools import chain\n",
    "\n",
    "from PIL import Image\n",
    "from tqdm.auto import tqdm\n",
    "import numpy as np"
   ]
  },
  {
   "cell_type": "code",
   "execution_count": 17,
   "metadata": {},
   "outputs": [
    {
     "data": {
      "application/vnd.jupyter.widget-view+json": {
       "model_id": "c8bb2c8fbf5845b2981d36cfa9f12d50",
       "version_major": 2,
       "version_minor": 0
      },
      "text/plain": [
       "HBox(children=(FloatProgress(value=1.0, bar_style='info', max=1.0), HTML(value='')))"
      ]
     },
     "metadata": {},
     "output_type": "display_data"
    },
    {
     "name": "stdout",
     "output_type": "stream",
     "text": [
      "\n"
     ]
    },
    {
     "data": {
      "application/vnd.jupyter.widget-view+json": {
       "model_id": "706d2c080dbb486caf70a272b847b0a2",
       "version_major": 2,
       "version_minor": 0
      },
      "text/plain": [
       "HBox(children=(FloatProgress(value=1.0, bar_style='info', max=1.0), HTML(value='')))"
      ]
     },
     "metadata": {},
     "output_type": "display_data"
    },
    {
     "name": "stdout",
     "output_type": "stream",
     "text": [
      "\n"
     ]
    },
    {
     "data": {
      "application/vnd.jupyter.widget-view+json": {
       "model_id": "9ed7589d10204076be112efc6559a6c6",
       "version_major": 2,
       "version_minor": 0
      },
      "text/plain": [
       "HBox(children=(FloatProgress(value=1.0, bar_style='info', max=1.0), HTML(value='')))"
      ]
     },
     "metadata": {},
     "output_type": "display_data"
    },
    {
     "name": "stdout",
     "output_type": "stream",
     "text": [
      "\n"
     ]
    },
    {
     "data": {
      "application/vnd.jupyter.widget-view+json": {
       "model_id": "795532a54d5a4857bb54f78351755410",
       "version_major": 2,
       "version_minor": 0
      },
      "text/plain": [
       "HBox(children=(FloatProgress(value=1.0, bar_style='info', max=1.0), HTML(value='')))"
      ]
     },
     "metadata": {},
     "output_type": "display_data"
    },
    {
     "name": "stdout",
     "output_type": "stream",
     "text": [
      "\n"
     ]
    },
    {
     "data": {
      "application/vnd.jupyter.widget-view+json": {
       "model_id": "9beee8f3eac34ea3a5c9cc5e84022abe",
       "version_major": 2,
       "version_minor": 0
      },
      "text/plain": [
       "HBox(children=(FloatProgress(value=1.0, bar_style='info', max=1.0), HTML(value='')))"
      ]
     },
     "metadata": {},
     "output_type": "display_data"
    },
    {
     "name": "stdout",
     "output_type": "stream",
     "text": [
      "\n"
     ]
    },
    {
     "data": {
      "application/vnd.jupyter.widget-view+json": {
       "model_id": "d58a77f3b00a429d96eb47b01be4e773",
       "version_major": 2,
       "version_minor": 0
      },
      "text/plain": [
       "HBox(children=(FloatProgress(value=1.0, bar_style='info', max=1.0), HTML(value='')))"
      ]
     },
     "metadata": {},
     "output_type": "display_data"
    },
    {
     "name": "stdout",
     "output_type": "stream",
     "text": [
      "\n"
     ]
    }
   ],
   "source": [
    "# Rename数据集\n",
    "for swf_subpath in swfaug_dataset_subpaths:\n",
    "    prefix = swf_subpath.stem\n",
    "    gt_path = swf_subpath / 'gt'\n",
    "    ori_path = swf_subpath / 'ori'\n",
    "    \n",
    "    for image in tqdm(gt_path.glob('*')):\n",
    "        if len(image.name.split('_')) <= 2:\n",
    "            continue\n",
    "        image.rename(gt_path / '_'.join(image.name.split('_')[4:6]))\n",
    "                     \n",
    "    for image in tqdm(ori_path.glob('*')):\n",
    "        if len(image.name.split('_')) <= 2:\n",
    "            continue\n",
    "        image.rename(ori_path / '_'.join(image.name.split('_')[2:4]))"
   ]
  },
  {
   "cell_type": "code",
   "execution_count": 34,
   "metadata": {},
   "outputs": [
    {
     "data": {
      "application/vnd.jupyter.widget-view+json": {
       "model_id": "e794f5921a76409faa3078b2c02a0cd7",
       "version_major": 2,
       "version_minor": 0
      },
      "text/plain": [
       "HBox(children=(FloatProgress(value=0.0, max=743.0), HTML(value='')))"
      ]
     },
     "metadata": {},
     "output_type": "display_data"
    },
    {
     "name": "stdout",
     "output_type": "stream",
     "text": [
      "\n"
     ]
    },
    {
     "data": {
      "application/vnd.jupyter.widget-view+json": {
       "model_id": "b9b66e3b35294d2f815b6df84ec0dfe2",
       "version_major": 2,
       "version_minor": 0
      },
      "text/plain": [
       "HBox(children=(FloatProgress(value=0.0, max=339.0), HTML(value='')))"
      ]
     },
     "metadata": {},
     "output_type": "display_data"
    },
    {
     "name": "stdout",
     "output_type": "stream",
     "text": [
      "\n"
     ]
    },
    {
     "data": {
      "application/vnd.jupyter.widget-view+json": {
       "model_id": "8f841a643d344ea5be7b643aca37648f",
       "version_major": 2,
       "version_minor": 0
      },
      "text/plain": [
       "HBox(children=(FloatProgress(value=0.0, max=308.0), HTML(value='')))"
      ]
     },
     "metadata": {},
     "output_type": "display_data"
    },
    {
     "name": "stdout",
     "output_type": "stream",
     "text": [
      "\n"
     ]
    }
   ],
   "source": [
    "# 先创建符合VOC的目录结构\n",
    "src_image_path = (swfaug_dataset_base_path / 'JPEGImages')\n",
    "gt_image_path = (swfaug_dataset_base_path / 'SegmentationClass')\n",
    "\n",
    "shutil.rmtree(src_image_path)\n",
    "shutil.rmtree(gt_image_path)\n",
    "\n",
    "src_image_path.mkdir(parents=False, exist_ok=True)\n",
    "gt_image_path.mkdir(parents=False, exist_ok=True)\n",
    "file_lists = []\n",
    "\n",
    "# 将数据集移动到对应的目录\n",
    "for swf_subpath in swfaug_dataset_subpaths:\n",
    "    prefix = swf_subpath.stem\n",
    "    gt_path = swf_subpath / 'gt'\n",
    "    ori_path = swf_subpath / 'ori'\n",
    "    gt_images = set(map(lambda x: x.name, gt_path.glob('*')))\n",
    "    ori_images = set(map(lambda x: x.name, ori_path.glob('*')))\n",
    "    images = gt_images & ori_images\n",
    "    file_lists.extend(list(map(lambda x: x.split('.')[0] + f'_{prefix}_aug', images)))\n",
    "    \n",
    "    for image_name in tqdm(images):\n",
    "        gt_image = gt_path / image_name\n",
    "        ori_image = ori_path / image_name\n",
    "        dst_gt_image = gt_image_path / (image_name.split('.')[0] + f'_{prefix}_aug.' + image_name.split('.')[1])\n",
    "        dst_ori_image = src_image_path / (image_name.split('.')[0] + f'_{prefix}_aug.' + image_name.split('.')[1])\n",
    "        os.link(gt_image, dst_gt_image)\n",
    "        os.link(ori_image, dst_ori_image)\n",
    "\n",
    "# 合并原来的teeth数据集\n",
    "gt_images = set(map(lambda x: x.stem, teeth_gt_image_path.glob('*')))\n",
    "ori_images = set(map(lambda x: x.stem, teeth_src_image_path.glob('*')))\n",
    "images = list(gt_images & ori_images)\n",
    "file_lists.extend(images)\n",
    "\n",
    "for path in tqdm(teeth_src_image_path.glob('*')):\n",
    "    dst_path = src_image_path / path.name\n",
    "    os.link(path, dst_path)\n",
    "\n",
    "for path in tqdm(teeth_gt_image_path.glob('*')):\n",
    "    dst_path = gt_image_path / path.name\n",
    "    os.link(path, dst_path)"
   ]
  },
  {
   "cell_type": "code",
   "execution_count": 36,
   "metadata": {},
   "outputs": [
    {
     "data": {
      "text/plain": [
       "3357"
      ]
     },
     "execution_count": 36,
     "metadata": {},
     "output_type": "execute_result"
    }
   ],
   "source": [
    "len(file_lists)"
   ]
  },
  {
   "cell_type": "code",
   "execution_count": 43,
   "metadata": {},
   "outputs": [],
   "source": [
    "summary_path = swfaug_dataset_base_path / \"ImageSets/Segmentation\"\n",
    "summary_path.mkdir(parents=True, exist_ok=True)\n",
    "\n",
    "train_summary_path = summary_path / 'train.txt'\n",
    "trainval_summary_path = summary_path / 'trainval.txt'\n",
    "val_summary_path = summary_path / 'val.txt'\n",
    "\n",
    "random.shuffle(file_lists)\n",
    "split_point = int(0.2 * len(file_lists))\n",
    "val_lists = file_lists[:split_point]\n",
    "train_lists = file_lists[split_point:]\n",
    "\n",
    "file_lists.sort()\n",
    "val_lists.sort()\n",
    "train_lists.sort()\n",
    "\n",
    "write_summary_file(trainval_summary_path, file_lists)\n",
    "write_summary_file(train_summary_path, train_lists)\n",
    "write_summary_file(val_summary_path, val_lists)"
   ]
  },
  {
   "cell_type": "code",
   "execution_count": 64,
   "metadata": {},
   "outputs": [
    {
     "data": {
      "application/vnd.jupyter.widget-view+json": {
       "model_id": "230a57cfb97747b1b663563af572d0d7",
       "version_major": 2,
       "version_minor": 0
      },
      "text/plain": [
       "HBox(children=(FloatProgress(value=1.0, bar_style='info', max=1.0), HTML(value='')))"
      ]
     },
     "metadata": {},
     "output_type": "display_data"
    },
    {
     "name": "stdout",
     "output_type": "stream",
     "text": [
      "\n"
     ]
    }
   ],
   "source": [
    "for path in tqdm(chain(gt_image_path.glob('*.jpg'))):\n",
    "    img = Image.open(path)\n",
    "    dst_path = path.parents[0] / (path.stem + '.png')\n",
    "    img.save(dst_path) "
   ]
  },
  {
   "cell_type": "code",
   "execution_count": 65,
   "metadata": {},
   "outputs": [
    {
     "data": {
      "application/vnd.jupyter.widget-view+json": {
       "model_id": "7ca551d4a4b041e3b39e5bf6fb3fc0d2",
       "version_major": 2,
       "version_minor": 0
      },
      "text/plain": [
       "HBox(children=(FloatProgress(value=1.0, bar_style='info', max=1.0), HTML(value='')))"
      ]
     },
     "metadata": {},
     "output_type": "display_data"
    },
    {
     "name": "stdout",
     "output_type": "stream",
     "text": [
      "\n"
     ]
    }
   ],
   "source": [
    "for path in tqdm(chain(gt_image_path.glob('*.jpg'), src_image_path.glob('*.png'))):\n",
    "    path.unlink()"
   ]
  },
  {
   "cell_type": "code",
   "execution_count": 93,
   "metadata": {},
   "outputs": [
    {
     "data": {
      "application/vnd.jupyter.widget-view+json": {
       "model_id": "f5c2298f45e2474c81e4f4cc7c076c75",
       "version_major": 2,
       "version_minor": 0
      },
      "text/plain": [
       "HBox(children=(FloatProgress(value=1.0, bar_style='info', max=1.0), HTML(value='')))"
      ]
     },
     "metadata": {},
     "output_type": "display_data"
    },
    {
     "name": "stdout",
     "output_type": "stream",
     "text": [
      "\n"
     ]
    },
    {
     "data": {
      "text/plain": [
       "{frozenset({0}), frozenset({0, 1}), frozenset({0, 1, 2})}"
      ]
     },
     "execution_count": 93,
     "metadata": {},
     "output_type": "execute_result"
    }
   ],
   "source": [
    "# teeth_res = set();\n",
    "aut_res = set();\n",
    "\n",
    "for path in tqdm(gt_image_path.glob('*')):\n",
    "    res = frozenset(np.unique(np.asarray(Image.open(path))).tolist())\n",
    "    if len(path.stem.split('_')) == 2:\n",
    "        pass\n",
    "#         teeth_res.add(res)\n",
    "    else:\n",
    "        aut_res.add(res)\n",
    "\n",
    "aut_res"
   ]
  },
  {
   "cell_type": "code",
   "execution_count": 92,
   "metadata": {},
   "outputs": [
    {
     "data": {
      "application/vnd.jupyter.widget-view+json": {
       "model_id": "e2ebbbaf76a24c4ba1601b8aa8fa4af1",
       "version_major": 2,
       "version_minor": 0
      },
      "text/plain": [
       "HBox(children=(FloatProgress(value=1.0, bar_style='info', max=1.0), HTML(value='')))"
      ]
     },
     "metadata": {},
     "output_type": "display_data"
    },
    {
     "name": "stdout",
     "output_type": "stream",
     "text": [
      "\n"
     ]
    }
   ],
   "source": [
    "for path in tqdm(gt_image_path.glob('*')):\n",
    "    res = list(np.unique(np.asarray(Image.open(path))).tolist())\n",
    "    if len(res) > 3:\n",
    "        ori_path = src_image_path / (path.stem + '.jpg')\n",
    "        if not ori_path.exists():\n",
    "            print(ori_path)\n",
    "        else:\n",
    "            ori_path.unlink()\n",
    "        path.unlink()"
   ]
  },
  {
   "cell_type": "code",
   "execution_count": 94,
   "metadata": {},
   "outputs": [],
   "source": [
    "file_lists = list(map(lambda x: x.stem, gt_image_path.glob('*')))\n",
    "\n",
    "summary_path = swfaug_dataset_base_path / \"ImageSets/Segmentation\"\n",
    "summary_path.mkdir(parents=True, exist_ok=True)\n",
    "\n",
    "train_summary_path = summary_path / 'train.txt'\n",
    "trainval_summary_path = summary_path / 'trainval.txt'\n",
    "val_summary_path = summary_path / 'val.txt'\n",
    "\n",
    "random.shuffle(file_lists)\n",
    "split_point = int(0.2 * len(file_lists))\n",
    "val_lists = file_lists[:split_point]\n",
    "train_lists = file_lists[split_point:]\n",
    "\n",
    "file_lists.sort()\n",
    "val_lists.sort()\n",
    "train_lists.sort()\n",
    "\n",
    "write_summary_file(trainval_summary_path, file_lists)\n",
    "write_summary_file(train_summary_path, train_lists)\n",
    "write_summary_file(val_summary_path, val_lists)"
   ]
  },
  {
   "cell_type": "code",
   "execution_count": null,
   "metadata": {},
   "outputs": [],
   "source": []
  }
 ],
 "metadata": {
  "kernelspec": {
   "display_name": "Python 3",
   "language": "python",
   "name": "python3"
  },
  "language_info": {
   "codemirror_mode": {
    "name": "ipython",
    "version": 3
   },
   "file_extension": ".py",
   "mimetype": "text/x-python",
   "name": "python",
   "nbconvert_exporter": "python",
   "pygments_lexer": "ipython3",
   "version": "3.7.6"
  }
 },
 "nbformat": 4,
 "nbformat_minor": 4
}
