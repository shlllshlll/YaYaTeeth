{
 "cells": [
  {
   "cell_type": "code",
   "execution_count": 46,
   "metadata": {},
   "outputs": [],
   "source": [
    "import shutil\n",
    "from pathlib import Path\n",
    "import warnings\n",
    "import random\n",
    "\n",
    "import numpy as np\n",
    "import cv2\n",
    "from PIL import Image\n",
    "from tqdm.auto import tqdm"
   ]
  },
  {
   "cell_type": "code",
   "execution_count": 89,
   "metadata": {},
   "outputs": [],
   "source": [
    "dataset_dir = Path(\"/data/pzndata/augmentor/newdata/teeth0516\")\n",
    "src_img_dir = dataset_dir / 'JPEGImages'\n",
    "src_gt_dir = dataset_dir / 'SegmentationClass'\n",
    "\n",
    "dst_img_dir = dataset_dir / 'JPEGImages_Crop'\n",
    "dst_gt_dir = dataset_dir / 'SegmentationClass_Crop'"
   ]
  },
  {
   "cell_type": "code",
   "execution_count": null,
   "metadata": {},
   "outputs": [],
   "source": [
    "def get_crop(level, img, gt):\n",
    "    if level not in [70, 80, 90]:\n",
    "        raise Exception(f\"level:{level} not supported.\")\n",
    "\n",
    "    img_size = gt.shape\n",
    "    crop_size = [int(shape * level / 100) for shape in size]\n",
    "    start_point_range = [x[0] - x[1] for x in zip(img_size, crop_size)]\n",
    "    start_point = [int(random.random() * x) for x in start_point_range]\n",
    "    end_point = [x[0] + x[1] for x in zip(start_point, crop_size)]\n",
    "    crop_img = img[start_point[0]:end_point[0], start_point[1]:end_point[1]]\n",
    "    crop_gt = gt[start_point[0]:end_point[0], start_point[1]:end_point[1]]\n",
    "    \n",
    "    return crop_img, crop_gt, start_point"
   ]
  },
  {
   "cell_type": "code",
   "execution_count": null,
   "metadata": {},
   "outputs": [
    {
     "data": {
      "application/vnd.jupyter.widget-view+json": {
       "model_id": "b74cf0d3830141048175a91b241dbd17",
       "version_major": 2,
       "version_minor": 0
      },
      "text/plain": [
       "HBox(children=(FloatProgress(value=0.0, max=2140.0), HTML(value='')))"
      ]
     },
     "metadata": {},
     "output_type": "display_data"
    }
   ],
   "source": [
    "if dst_dataset_dir.exists():\n",
    "    shutil.rmtree(dst_dataset_dir)\n",
    "if dst_gt_dir.exists():\n",
    "    shutil.rmtree(dst_gt_dir)\n",
    "    \n",
    "dst_img_dir.mkdir()\n",
    "dst_gt_dir.mkdir()\n",
    "\n",
    "for src_img_path in tqdm(list(src_img_dir.glob('*'))):\n",
    "    src_gt_path = src_gt_dir / (src_img_path.stem + '.png')\n",
    "    \n",
    "    if not src_gt_path.exists():\n",
    "        print(src_gt_path)\n",
    "        continue\n",
    "    \n",
    "    src_img = cv2.imread(str(src_img_path), cv2.IMREAD_UNCHANGED)\n",
    "    src_gt = cv2.imread(str(src_gt_path), cv2.IMREAD_UNCHANGED)\n",
    "    \n",
    "    # Filter gt greater than 3\n",
    "    src_gt[src_gt>=3] = 0\n",
    "    \n",
    "    if src_img.shape[:-1] != src_gt.shape:\n",
    "        warning.warn(f\"Source image shape:{src_img.shape[:-1]} not equal to ground truth shape.\")\n",
    "    \n",
    "    crop_levels = [70, 80, 90]\n",
    "    crop_nums = [2, 2, 4]\n",
    "    \n",
    "    for level, num in zip(crop_levels, crop_nums):\n",
    "        for i in range(num):\n",
    "            crop_img, crop_gt, start_point = get_crop(level, src_img, src_gt)\n",
    "            crop_name = src_img_path.stem + f\"_{level}_\" + \"_\".join(str(x) for x in start_point)\n",
    "            crop_img_path = dst_img_dir / (crop_name + '.jpg')\n",
    "            crop_gt_path = dst_gt_dir / (crop_name + '.png')\n",
    "            cv2.imwrite(str(crop_img_path), crop_img)\n",
    "            cv2.imwrite(str(crop_gt_path), crop_gt)"
   ]
  },
  {
   "cell_type": "code",
   "execution_count": null,
   "metadata": {},
   "outputs": [],
   "source": []
  }
 ],
 "metadata": {
  "kernelspec": {
   "display_name": "Python 3",
   "language": "python",
   "name": "python3"
  },
  "language_info": {
   "codemirror_mode": {
    "name": "ipython",
    "version": 3
   },
   "file_extension": ".py",
   "mimetype": "text/x-python",
   "name": "python",
   "nbconvert_exporter": "python",
   "pygments_lexer": "ipython3",
   "version": "3.7.7"
  }
 },
 "nbformat": 4,
 "nbformat_minor": 4
}
