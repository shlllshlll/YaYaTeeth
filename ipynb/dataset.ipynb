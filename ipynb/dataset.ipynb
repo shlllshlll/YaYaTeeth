{
 "cells": [
  {
   "cell_type": "code",
   "execution_count": 1,
   "metadata": {},
   "outputs": [],
   "source": [
    "from pathlib import Path\n",
    "from collections import Counter\n",
    "import shutil\n",
    "import os\n",
    "import random\n",
    "\n",
    "import numpy as np\n",
    "from PIL import Image\n",
    "import cv2"
   ]
  },
  {
   "cell_type": "code",
   "execution_count": null,
   "metadata": {},
   "outputs": [],
   "source": [
    "oripath = \"/data/pzndata/augmentor/newendoscope/all_data/all_data0512_resize/SegmentationClass_6/\"\n",
    "dstpath = \"/data/pzndata/augmentor/newendoscope/all_data/all_data0512_resize/SegmentationClass_3_shl/\"\n",
    "\n",
    "if os.path.exists(dstpath):\n",
    "    shutil.rmtree(dstpath)\n",
    "os.makedirs(dstpath)\n",
    "\n",
    "cnt = 0\n",
    "for filename in os.listdir(oripath):\n",
    "    if 'jpg' in filename:\n",
    "        print(oripath + filename)\n",
    "        im = cv2.imread(oripath + filename, cv2.IMREAD_UNCHANGED)\n",
    "        im[im>=3]=0\n",
    "        cv2.imwrite(dstpath + filename, im)\n",
    "        cnt += 1"
   ]
  },
  {
   "cell_type": "code",
   "execution_count": 2,
   "metadata": {},
   "outputs": [],
   "source": [
    "base_path = Path(\"/data/pzndata/augmentor/newdata/teeth0511\")\n",
    "aug_path = base_path / \"output2116\"\n",
    "ori_path = base_path / \"JPEGImages\"\n",
    "gt_path = base_path / \"SegmentationClass\"\n",
    "\n",
    "dst_base_path = Path('/data/shl/data/0512_aug')\n",
    "dst_ori_path = dst_base_path / \"JPEGImages\"\n",
    "dst_gt_path = dst_base_path / \"SegmentationClass\"\n",
    "dst_txt = dst_base_path / \"ImageSets/Segmentation\""
   ]
  },
  {
   "cell_type": "code",
   "execution_count": 3,
   "metadata": {},
   "outputs": [],
   "source": [
    "def read_summary_file(path):\n",
    "    summary_list = []\n",
    "    with open(path, 'r') as f:\n",
    "        for line in f:\n",
    "            if (line[-1] == '\\n'):\n",
    "                line = line[:-1]\n",
    "            summary_list.append(line)\n",
    "        \n",
    "    return summary_list\n",
    "\n",
    "def write_summary_file(path, lines):\n",
    "    with open(path, 'w') as f:\n",
    "        for line in lines[:-1]:\n",
    "            f.write(line+'\\n')\n",
    "        f.write(lines[-1])"
   ]
  },
  {
   "cell_type": "code",
   "execution_count": 74,
   "metadata": {},
   "outputs": [
    {
     "data": {
      "text/plain": [
       "3"
      ]
     },
     "execution_count": 74,
     "metadata": {},
     "output_type": "execute_result"
    }
   ],
   "source": [
    "base_seg_path = '/data/pzndata/augmentor/newendoscope/all_data/all_data0512_resize/SegmentationClass_3_shl/'\n",
    "oripath = \"/data/pzndata/augmentor/newendoscope/all_data/all_data0512_resize/SegmentationClass_6/\"\n",
    "file_name = '2019_000856.jpg_1ff4c78a-5d10-4483-91b0-161a23e54000.jpg'\n",
    "dst_file_name = '2019_000856.jpg_1ff4c78a-5d10-4483-91b0-161a23e54000.jpg'\n",
    "img_name = base_seg_path + dst_file_name\n",
    "\n",
    "im = cv2.imread(oripath + file_name, cv2.IMREAD_UNCHANGED)\n",
    "im[im>=3]=0\n",
    "cv2.imwrite(img_name, im)\n",
    "\n",
    "cv2.imread(img_name, cv2.IMREAD_UNCHANGED).max()"
   ]
  },
  {
   "cell_type": "code",
   "execution_count": 57,
   "metadata": {},
   "outputs": [
    {
     "data": {
      "text/plain": [
       "True"
      ]
     },
     "execution_count": 57,
     "metadata": {},
     "output_type": "execute_result"
    }
   ],
   "source": [
    "img_name == dstpath + file_name"
   ]
  },
  {
   "cell_type": "code",
   "execution_count": null,
   "metadata": {},
   "outputs": [],
   "source": [
    "name_list = []\n",
    "count = 0\n",
    "seg_cls = Path('/data/pzndata/augmentor/newendoscope/all_data/all_data0512_resize/SegmentationClass_3_new')\n",
    "for path in seg_cls.glob('*'):\n",
    "    gt_img = Image.open(path)\n",
    "    gt_img_np = np.asarray(gt_img)\n",
    "    gt_img_np_unique = np.unique(gt_img_np)\n",
    "    \n",
    "    if gt_img_np_unique.max() >= 3:\n",
    "        print(path.name)\n",
    "#         print(path.name, gt_img_np_unique)\n",
    "        count += 1\n",
    "        name_list.append(path.name)"
   ]
  },
  {
   "cell_type": "code",
   "execution_count": null,
   "metadata": {},
   "outputs": [],
   "source": [
    "num_aug_dict = {}\n",
    "count = 0\n",
    "for path in aug_path.glob('*'):\n",
    "    if path.name.startswith('JPEGImages_original'):\n",
    "        pass\n",
    "    elif path.name.startswith('_groundtruth'):\n",
    "        gt_img = Image.open(path)\n",
    "        gt_img_np = np.asarray(gt_img)\n",
    "        gt_img_np_unique = tuple(np.unique(gt_img_np))\n",
    "        size = len(gt_img_np_unique)\n",
    "        \n",
    "        ori_gt_name = '_'.join(path.name.split('_')[4:6])\n",
    "        ori_gt_img_path = gt_path / ori_gt_name\n",
    "        ori_gt_img = Image.open(ori_gt_img_path)\n",
    "        ori_gt_img_np = np.asarray(ori_gt_img)\n",
    "        ori_gt_img_np_unique = tuple(np.unique(ori_gt_img_np))\n",
    "        ori_size = len(ori_gt_img_np_unique)\n",
    "        \n",
    "        if ori_size != size:\n",
    "            print(ori_gt_name, gt_img_np_unique, ori_gt_img_np_unique)\n",
    "        if size > ori_size:\n",
    "            count += 1\n",
    "        \n",
    "\n",
    "        if gt_img_np_unique not in num_aug_dict:\n",
    "            num_aug_dict[gt_img_np_unique] = 1\n",
    "        else:\n",
    "            num_aug_dict[gt_img_np_unique] = num_aug_dict[gt_img_np_unique] + 1\n",
    "\n",
    "        if size == 1 or size > 4 or not gt_img_np_unique == tuple([i for i in range(size)]):\n",
    "            pass\n",
    "#             print(path.name, gt_img_np_unique)\n",
    "    else:\n",
    "        print(path.name)\n",
    "        break\n",
    "num_aug_dict"
   ]
  },
  {
   "cell_type": "code",
   "execution_count": 64,
   "metadata": {},
   "outputs": [
    {
     "data": {
      "text/plain": [
       "1807"
      ]
     },
     "execution_count": 64,
     "metadata": {},
     "output_type": "execute_result"
    }
   ],
   "source": [
    "count"
   ]
  },
  {
   "cell_type": "code",
   "execution_count": null,
   "metadata": {},
   "outputs": [],
   "source": [
    "# 验证增强后的GT与增强前的GT是否一致\n",
    "num_aug_dict = {}\n",
    "for path in aug_path.glob('*'):\n",
    "    if path.name.startswith('JPEGImages_original'):\n",
    "        pass\n",
    "    elif path.name.startswith('_groundtruth'):\n",
    "        gt_img = Image.open(path)\n",
    "        gt_img_np = np.asarray(gt_img)\n",
    "        gt_img_np_unique = tuple(np.unique(gt_img_np))\n",
    "        size = len(gt_img_np_unique)\n",
    "\n",
    "        ori_gt_img_path = \n",
    "    else:\n",
    "        print(path.name)\n",
    "        break\n",
    "num_aug_dict"
   ]
  },
  {
   "cell_type": "code",
   "execution_count": 57,
   "metadata": {},
   "outputs": [
    {
     "name": "stdout",
     "output_type": "stream",
     "text": [
      "2018_010085.png (0, 2)\n",
      "2018_010086.png (0, 2)\n",
      "2018_000064.jpg (0, 1, 2, 3, 4)\n",
      "2020_000357.jpg (0, 1, 2, 3, 4)\n",
      "2020_000401.jpg (0, 1, 2, 3, 4)\n"
     ]
    },
    {
     "data": {
      "text/plain": [
       "{(0, 1, 2): 2115, (0, 1, 2, 3): 2103, (0, 2): 2, (0, 1): 9, (0, 1, 2, 3, 4): 3}"
      ]
     },
     "execution_count": 57,
     "metadata": {},
     "output_type": "execute_result"
    }
   ],
   "source": [
    "num_dict = {}\n",
    "for path in gt_path.glob('*'):\n",
    "    gt_img = Image.open(path)\n",
    "    gt_img_np = np.asarray(gt_img)\n",
    "    gt_img_np_unique = tuple(np.unique(gt_img_np))\n",
    "    size = len(gt_img_np_unique)\n",
    "    \n",
    "    if gt_img_np_unique not in num_dict:\n",
    "        num_dict[gt_img_np_unique] = 1\n",
    "    else:\n",
    "        num_dict[gt_img_np_unique] = num_dict[gt_img_np_unique] + 1\n",
    "    \n",
    "    if size == 1 or size > 4 or not gt_img_np_unique == tuple([i for i in range(size)]):\n",
    "        print(path.name, gt_img_np_unique)\n",
    "num_dict"
   ]
  },
  {
   "cell_type": "code",
   "execution_count": 12,
   "metadata": {},
   "outputs": [],
   "source": [
    "gt_img_path = gt_path / \"2020_000357.jpg\"\n",
    "gt_img = Image.open(gt_img_path)\n",
    "counts = Counter(list(gt_img_np.flatten()))\n",
    "gt_img_np = np.asarray(gt_img)"
   ]
  },
  {
   "cell_type": "code",
   "execution_count": 13,
   "metadata": {},
   "outputs": [
    {
     "data": {
      "text/plain": [
       "Counter({0: 178825, 1: 288122, 2: 22890, 3: 162, 4: 1})"
      ]
     },
     "execution_count": 13,
     "metadata": {},
     "output_type": "execute_result"
    }
   ],
   "source": [
    "counts"
   ]
  },
  {
   "cell_type": "code",
   "execution_count": 15,
   "metadata": {},
   "outputs": [
    {
     "name": "stdout",
     "output_type": "stream",
     "text": [
      "2018_010085.png Counter({2: 390525, 0: 99475})\n",
      "2018_010086.png Counter({2: 381808, 0: 108192})\n",
      "2018_000064.jpg Counter({1: 322037, 0: 135523, 2: 32287, 3: 152, 4: 1})\n",
      "2020_000357.jpg Counter({1: 288122, 0: 178825, 2: 22890, 3: 162, 4: 1})\n",
      "2020_000401.jpg Counter({1: 307802, 0: 156183, 2: 25866, 3: 148, 4: 1})\n"
     ]
    }
   ],
   "source": [
    "name_list = [\n",
    "    \"2018_010085.png\",\n",
    "    \"2018_010086.png\",\n",
    "    \"2018_000064.jpg\",\n",
    "    \"2020_000357.jpg\",\n",
    "    \"2020_000401.jpg\"\n",
    "]\n",
    "\n",
    "for name in name_list:\n",
    "    gt_img_path = gt_path / name\n",
    "    gt_img = Image.open(gt_img_path)\n",
    "    gt_img_np = np.asarray(gt_img)\n",
    "    counts = Counter(list(gt_img_np.flatten()))\n",
    "    print(name, counts)"
   ]
  },
  {
   "cell_type": "markdown",
   "metadata": {},
   "source": [
    "### ORI\n",
    "\n",
    "(0, 1, 2): 2115\n",
    "\n",
    "(0, 1, 2, 3): 2103\n",
    "\n",
    "(0, 2): 2\n",
    "\n",
    "(0, 1): 9 \n",
    "\n",
    "(0, 1, 2, 3, 4): 3\n",
    "\n",
    "### AUG\n",
    "\n",
    "(0, 1, 2): 3169\n",
    "\n",
    "(1,): 87\n",
    "\n",
    "(0, 1, 2, 3): 170\n",
    "\n",
    "(0,): 246\n",
    "\n",
    "(0, 1): 322\n",
    "\n",
    "(0, 1, 2, 3, 4): 6"
   ]
  },
  {
   "cell_type": "code",
   "execution_count": 4,
   "metadata": {},
   "outputs": [
    {
     "name": "stdout",
     "output_type": "stream",
     "text": [
      "size>4:  [0 1 2 3 4]\n",
      "size>4:  [0 1 2 3 4]\n",
      "size>4:  [0 1 2 3 4]\n"
     ]
    }
   ],
   "source": [
    "# 生成数据集\n",
    "if dst_base_path.exists():\n",
    "    shutil.rmtree(dst_base_path)\n",
    "dst_base_path.mkdir(parents='True', exist_ok='True')\n",
    "dst_ori_path.mkdir()\n",
    "dst_gt_path.mkdir()\n",
    "\n",
    "# 首先处理原始图像\n",
    "for path in ori_path.glob('*'):\n",
    "    gt_img_path = gt_path / path.name\n",
    "    \n",
    "    if not gt_img_path.exists():\n",
    "        print(gt_img_path)\n",
    "        continue\n",
    "        \n",
    "    gt_img = Image.open(gt_img_path)\n",
    "    gt_img_np = np.asarray(gt_img)\n",
    "    gt_img_unique = np.unique(gt_img_np)\n",
    "    if gt_img_unique.size > 4:\n",
    "        print(\"size>4: \", gt_img_unique)\n",
    "        continue\n",
    "    \n",
    "    dst_ori_img_path = dst_ori_path / path.name\n",
    "    dst_gt_img_path = dst_gt_path / path.name\n",
    "    \n",
    "    os.link(path, dst_ori_img_path)\n",
    "    os.link(gt_img_path, dst_gt_img_path)\n",
    "    \n",
    "#     print(path, gt_img_path)\n",
    "#     print(dst_ori_img_path, dst_gt_img_path)"
   ]
  },
  {
   "cell_type": "code",
   "execution_count": 5,
   "metadata": {},
   "outputs": [],
   "source": [
    "for ori_img_path in aug_path.glob('JPEGImages_original*'):\n",
    "    name = '_groundtruth*' + ori_img_path.name[20:]\n",
    "    gt_img_path_list = list(aug_path.glob(name))\n",
    "    \n",
    "    if len(gt_img_path_list) == 0:\n",
    "        print(ori_img_path)\n",
    "        continue\n",
    "        \n",
    "    gt_img_path = gt_img_path_list[0]\n",
    "    \n",
    "#     gt_img = Image.open(gt_img_path)\n",
    "#     gt_img_np = np.asarray(gt_img)\n",
    "#     if np.unique(gt_img_np).size > 4:\n",
    "#         print(\"size>4: \", gt_img_path)\n",
    "#         continue\n",
    "    name = ori_img_path.name[20:] \n",
    "    \n",
    "    dst_ori_img_path = dst_ori_path / name\n",
    "    dst_gt_img_path = dst_gt_path / name\n",
    "    \n",
    "    os.link(ori_img_path, dst_ori_img_path)\n",
    "    os.link(gt_img_path, dst_gt_img_path)\n",
    "    \n",
    "#     print(ori_img_path, gt_img_path)\n",
    "#     print(dst_ori_img_path, dst_gt_img_path)"
   ]
  },
  {
   "cell_type": "code",
   "execution_count": 6,
   "metadata": {},
   "outputs": [
    {
     "data": {
      "text/plain": [
       "5000"
      ]
     },
     "execution_count": 6,
     "metadata": {},
     "output_type": "execute_result"
    }
   ],
   "source": [
    "len(list(aug_path.glob(\"_groundtruth*\")))"
   ]
  },
  {
   "cell_type": "code",
   "execution_count": 7,
   "metadata": {},
   "outputs": [
    {
     "data": {
      "text/plain": [
       "5000"
      ]
     },
     "execution_count": 7,
     "metadata": {},
     "output_type": "execute_result"
    }
   ],
   "source": [
    "len(list(aug_path.glob(\"JPEGImages_original*\")))"
   ]
  },
  {
   "cell_type": "code",
   "execution_count": 8,
   "metadata": {},
   "outputs": [],
   "source": [
    "# 生成划分数据集\n",
    "if dst_txt.exists():\n",
    "    shutil.rmtree(dst_txt)\n",
    "dst_txt.mkdir(parents='True', exist_ok='True')\n",
    "\n",
    "trainval_path = dst_txt / \"trainval.txt\"\n",
    "train_path = dst_txt / \"train.txt\"\n",
    "val_path = dst_txt / \"val.txt\"\n",
    "\n",
    "# trainval.txt\n",
    "file_list = list(map(lambda x: x.stem, dst_ori_path.glob('*')))\n",
    "write_summary_file(trainval_path, file_list)\n",
    "\n",
    "# train.txt\n",
    "random.shuffle(file_list)\n",
    "split_point = int(len(file_list)*0.8)\n",
    "write_summary_file(train_path, file_list[:split_point])\n",
    "\n",
    "# val.txt\n",
    "write_summary_file(val_path, file_list[split_point:])"
   ]
  },
  {
   "cell_type": "code",
   "execution_count": null,
   "metadata": {},
   "outputs": [],
   "source": []
  }
 ],
 "metadata": {
  "kernelspec": {
   "display_name": "Python 3",
   "language": "python",
   "name": "python3"
  },
  "language_info": {
   "codemirror_mode": {
    "name": "ipython",
    "version": 3
   },
   "file_extension": ".py",
   "mimetype": "text/x-python",
   "name": "python",
   "nbconvert_exporter": "python",
   "pygments_lexer": "ipython3",
   "version": "3.7.7"
  }
 },
 "nbformat": 4,
 "nbformat_minor": 4
}
