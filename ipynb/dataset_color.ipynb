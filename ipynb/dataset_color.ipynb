{
 "cells": [
  {
   "cell_type": "code",
   "execution_count": 1,
   "metadata": {},
   "outputs": [],
   "source": [
    "from pathlib import Path\n",
    "from collections import Counter\n",
    "import shutil\n",
    "import os\n",
    "import random\n",
    "from itertools import chain\n",
    "\n",
    "import numpy as np\n",
    "from PIL import Image\n",
    "import cv2"
   ]
  },
  {
   "cell_type": "code",
   "execution_count": 2,
   "metadata": {},
   "outputs": [],
   "source": [
    "def read_summary_file(path):\n",
    "    summary_list = []\n",
    "    with open(path, 'r') as f:\n",
    "        for line in f:\n",
    "            if (line[-1] == '\\n'):\n",
    "                line = line[:-1]\n",
    "            summary_list.append(line)\n",
    "        \n",
    "    return summary_list\n",
    "\n",
    "def write_summary_file(path, lines):\n",
    "    with open(path, 'w') as f:\n",
    "        for line in lines[:-1]:\n",
    "            f.write(line+'\\n')\n",
    "        f.write(lines[-1])"
   ]
  },
  {
   "cell_type": "code",
   "execution_count": 3,
   "metadata": {},
   "outputs": [],
   "source": [
    "ori_dataset_dir = Path('/data/shl/data/all_data0512')\n",
    "ori_dataset_txt_dir = ori_dataset_dir / 'ImageSets/Segmentation'\n",
    "ori_dataset_img_dir = ori_dataset_dir / 'JPEGImages'\n",
    "ori_dataset_gt_dir = ori_dataset_dir / 'SegmentationClass'\n",
    "\n",
    "dst_dataset_dir = Path('/data/shl/data/all_datacolor')\n",
    "dst_dataset_txt_dir = dst_dataset_dir / 'ImageSets/Segmentation'\n",
    "dst_dataset_img_dir = dst_dataset_dir / 'JPEGImages'\n",
    "dst_dataset_gt_dir = dst_dataset_dir / 'SegmentationClass'\n",
    "\n",
    "# color_gt_dir = Path(\"/data/pzndata/augmentor/newdata/teeth0511/SegmentationClass\")\n",
    "# color_gt_dir = Path(\"/data/pzndata/augmentor/newendoscope/data25/SegmentationClass\")\n",
    "color_2116_dir = Path(\"/data/pzndata/augmentor/newdata/teeth0511/output2116color\")\n",
    "color_25_dir = Path(\"/data/pzndata/augmentor/newendoscope/data25/output25color\")\n",
    "\n",
    "color_img_dst_dir = dst_dataset_dir / 'JPEGImages_Color'\n",
    "color_gt_dst_dir = dst_dataset_dir / 'SegmentationClass_Color'"
   ]
  },
  {
   "cell_type": "code",
   "execution_count": 13,
   "metadata": {},
   "outputs": [],
   "source": [
    "# 先拷贝原先的数据集\n",
    "if dst_dataset_dir.exists():\n",
    "    shutil.rmtree(dst_dataset_dir)\n",
    "dst_dataset_dir.mkdir()\n",
    "dst_dataset_txt_dir.mkdir(parents=True)\n",
    "dst_dataset_img_dir.mkdir()\n",
    "dst_dataset_gt_dir.mkdir()\n",
    "\n",
    "for path in chain(ori_dataset_img_dir.glob('*'), ori_dataset_gt_dir.glob('*')):\n",
    "    dst_path = Path(dst_dataset_dir, *path.parts[-2:])\n",
    "    os.link(path, dst_path)"
   ]
  },
  {
   "cell_type": "code",
   "execution_count": null,
   "metadata": {},
   "outputs": [],
   "source": [
    "# 处理新的数据集\n",
    "if color_img_dst_dir.exists():\n",
    "    shutil.rmtree(color_img_dst_dir)\n",
    "if color_gt_dst_dir.exists():\n",
    "    shutil.rmtree(color_gt_dst_dir)\n",
    "color_img_dst_dir.mkdir(exist_ok=True)\n",
    "color_gt_dst_dir.mkdir(exist_ok=True)\n",
    "\n",
    "for path in chain(color_2116_dir.glob('*'), color_25_dir.glob('*')):\n",
    "    ori_name = '_'.join(path.name.split('_')[2:4])[:-4]\n",
    "    color_gt_dir = Path(*path.parts[:-2], 'SegmentationClass')\n",
    "    ori_gt_path = color_gt_dir / (ori_name + '.png')\n",
    "    if not ori_gt_path.exists():\n",
    "        print(ori_gt_path)\n",
    "        continue\n",
    "    \n",
    "    dst_img_name = path.name[20:]\n",
    "    dst_gt_name = path.stem[20:] + '.png'\n",
    "    dst_img_path = color_img_dst_dir / dst_img_name\n",
    "    dst_gt_path = color_gt_dst_dir / dst_gt_name\n",
    "    \n",
    "    shutil.copyfile(path, dst_img_path)\n",
    "    shutil.copyfile(ori_gt_path, dst_gt_path)"
   ]
  },
  {
   "cell_type": "code",
   "execution_count": 15,
   "metadata": {},
   "outputs": [
    {
     "data": {
      "text/plain": [
       "1000"
      ]
     },
     "execution_count": 15,
     "metadata": {},
     "output_type": "execute_result"
    }
   ],
   "source": [
    "# 处理新生成的GT中大于等于3的像素\n",
    "count = 0\n",
    "for path in color_gt_dst_dir.glob('*'):\n",
    "    img = cv2.imread(str(path), cv2.IMREAD_UNCHANGED)\n",
    "    if img.max() >= 3:\n",
    "        img[img>=3] = 0\n",
    "        cv2.imwrite(str(path), img)\n",
    "        count += 1\n",
    "count"
   ]
  },
  {
   "cell_type": "code",
   "execution_count": 22,
   "metadata": {},
   "outputs": [
    {
     "data": {
      "text/plain": [
       "0"
      ]
     },
     "execution_count": 22,
     "metadata": {},
     "output_type": "execute_result"
    }
   ],
   "source": [
    "# 检查是否去除成功\n",
    "name_list = []\n",
    "count = 0\n",
    "seg_cls = dst_dataset_gt_dir\n",
    "for path in seg_cls.glob('*'):\n",
    "    gt_img = Image.open(path)\n",
    "    gt_img_np = np.asarray(gt_img)\n",
    "    gt_img_np_unique = np.unique(gt_img_np)\n",
    "    \n",
    "    if gt_img_np_unique.max() >= 3:\n",
    "#         print(path.name)\n",
    "        print(path.name, gt_img_np_unique)\n",
    "        count += 1\n",
    "        name_list.append(path.name)\n",
    "count"
   ]
  },
  {
   "cell_type": "code",
   "execution_count": 19,
   "metadata": {},
   "outputs": [],
   "source": [
    "# 生成划分数据集\n",
    "if dst_dataset_txt_dir.exists():\n",
    "    shutil.rmtree(dst_dataset_txt_dir)\n",
    "dst_dataset_txt_dir.mkdir(parents='True', exist_ok='True')\n",
    "\n",
    "trainval_path = dst_dataset_txt_dir / \"trainval.txt\"\n",
    "train_path = dst_dataset_txt_dir / \"train.txt\"\n",
    "val_path = dst_dataset_txt_dir / \"val.txt\"\n",
    "\n",
    "# trainval.txt\n",
    "file_list = list(map(lambda x: x.stem, dst_dataset_img_dir.glob('*')))\n",
    "write_summary_file(trainval_path, file_list)\n",
    "\n",
    "# train.txt\n",
    "random.shuffle(file_list)\n",
    "split_point = int(len(file_list)*0.8)\n",
    "write_summary_file(train_path, file_list[:split_point])\n",
    "\n",
    "# val.txt\n",
    "write_summary_file(val_path, file_list[split_point:])"
   ]
  },
  {
   "cell_type": "code",
   "execution_count": null,
   "metadata": {},
   "outputs": [],
   "source": []
  }
 ],
 "metadata": {
  "kernelspec": {
   "display_name": "Python 3",
   "language": "python",
   "name": "python3"
  },
  "language_info": {
   "codemirror_mode": {
    "name": "ipython",
    "version": 3
   },
   "file_extension": ".py",
   "mimetype": "text/x-python",
   "name": "python",
   "nbconvert_exporter": "python",
   "pygments_lexer": "ipython3",
   "version": "3.7.7"
  }
 },
 "nbformat": 4,
 "nbformat_minor": 4
}
